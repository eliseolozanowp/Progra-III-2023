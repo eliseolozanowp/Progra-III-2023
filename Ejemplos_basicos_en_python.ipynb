{
  "cells": [
    {
      "cell_type": "markdown",
      "metadata": {
        "id": "view-in-github",
        "colab_type": "text"
      },
      "source": [
        "<a href=\"https://colab.research.google.com/github/eliseolozanowp/Progra-III-2023/blob/main/Ejemplos_basicos_en_python.ipynb\" target=\"_parent\"><img src=\"https://colab.research.google.com/assets/colab-badge.svg\" alt=\"Open In Colab\"/></a>"
      ]
    },
    {
      "cell_type": "markdown",
      "metadata": {
        "id": "JgTeA_LZJRym"
      },
      "source": [
        "# Práctica - 21 de Julio"
      ]
    },
    {
      "cell_type": "markdown",
      "metadata": {
        "id": "oqLXYhD8Hml3"
      },
      "source": [
        "Introducción a Python\n",
        "\n",
        "Declaración de variables"
      ]
    },
    {
      "cell_type": "code",
      "execution_count": null,
      "metadata": {
        "colab": {
          "base_uri": "https://localhost:8080/"
        },
        "id": "G9bUZKkWGHZn",
        "outputId": "494ee50f-2fce-4c4e-897d-7d81e91f7f08"
      },
      "outputs": [
        {
          "name": "stdout",
          "output_type": "stream",
          "text": [
            "Hola Mundo\n"
          ]
        }
      ],
      "source": [
        "saludo = \"Hola Mundo\"\n",
        "print(saludo)"
      ]
    },
    {
      "cell_type": "code",
      "execution_count": null,
      "metadata": {
        "colab": {
          "base_uri": "https://localhost:8080/"
        },
        "id": "7yTtqvf9IypE",
        "outputId": "986a54c0-487d-4898-bed4-93f08c0578b7"
      },
      "outputs": [
        {
          "name": "stdout",
          "output_type": "stream",
          "text": [
            "La suma de 5 + 7.5 = 12.5\n",
            "12.5\n"
          ]
        }
      ],
      "source": [
        "num1 = 5\n",
        "num2 = 7.5\n",
        "resp = num1 + num2\n",
        "print(\"La suma de\", num1, \"+\", num2, \"=\", resp)\n",
        "print(resp)"
      ]
    },
    {
      "cell_type": "code",
      "execution_count": null,
      "metadata": {
        "colab": {
          "base_uri": "https://localhost:8080/"
        },
        "id": "EJ8Uyq0CKItC",
        "outputId": "3da26647-594c-4444-9062-fc299e180699"
      },
      "outputs": [
        {
          "name": "stdout",
          "output_type": "stream",
          "text": [
            "Hola Eliseo Lozano, tu edad: 21\n"
          ]
        }
      ],
      "source": [
        "name = \"Eliseo Lozano\"\n",
        "edad = 21\n",
        "saludo = \"Hola \"+ name + \", tu edad: \"+ str(edad)\n",
        "print(saludo)"
      ]
    },
    {
      "cell_type": "code",
      "execution_count": null,
      "metadata": {
        "colab": {
          "base_uri": "https://localhost:8080/"
        },
        "id": "2nOqgmcALLsK",
        "outputId": "b2aa135e-61b1-49b3-f1dd-f33086a813eb"
      },
      "outputs": [
        {
          "name": "stdout",
          "output_type": "stream",
          "text": [
            "Dime tu nombre: Eliseo\n",
            "Tu edad: 21\n",
            "Hola que tal Eliseo, tu edad: 21\n"
          ]
        }
      ],
      "source": [
        "nombre = input(\"Dime tu nombre: \")\n",
        "edad = input(\"Tu edad: \")\n",
        "saludo = \"Hola que tal \"+ nombre + \", tu edad: \"+ edad\n",
        "print(saludo)"
      ]
    },
    {
      "cell_type": "code",
      "execution_count": null,
      "metadata": {
        "colab": {
          "base_uri": "https://localhost:8080/"
        },
        "id": "1IhxCfthP8Ku",
        "outputId": "d8b140d1-006b-4953-98e4-40b312b1842b"
      },
      "outputs": [
        {
          "name": "stdout",
          "output_type": "stream",
          "text": [
            "Digite el primer numero: 12\n",
            "Digite el segundo numero: 13\n",
            "La suma es:  25.0\n"
          ]
        }
      ],
      "source": [
        "num1 = float(input(\"Digite el primer numero: \"))\n",
        "num2 = float(input(\"Digite el segundo numero: \"))\n",
        "suma= num1 + num2\n",
        "print(\"La suma es: \", suma)"
      ]
    },
    {
      "cell_type": "code",
      "execution_count": null,
      "metadata": {
        "colab": {
          "base_uri": "https://localhost:8080/"
        },
        "id": "drGT7Ph0MaBd",
        "outputId": "e898b633-b4d1-4c19-b108-1ce926e21a05"
      },
      "outputs": [
        {
          "name": "stdout",
          "output_type": "stream",
          "text": [
            "Digite el primer numero: 34\n",
            "Digite el segundo numero: 23\n",
            "La resta es:  11.0\n"
          ]
        }
      ],
      "source": [
        "num1 = float(input(\"Digite el primer numero: \"))\n",
        "num2 = float(input(\"Digite el segundo numero: \"))\n",
        "resta= num1 - num2\n",
        "print(\"La resta es: \", resta)"
      ]
    },
    {
      "cell_type": "code",
      "execution_count": null,
      "metadata": {
        "colab": {
          "base_uri": "https://localhost:8080/"
        },
        "id": "LaNdtiLuQD9F",
        "outputId": "c117dae6-9a78-4152-b6d6-9aafdaf7247a"
      },
      "outputs": [
        {
          "name": "stdout",
          "output_type": "stream",
          "text": [
            "Digite el primer numero: 12\n",
            "Digite el segundo numero: 12\n",
            "La multiplicación es:  144.0\n"
          ]
        }
      ],
      "source": [
        "num1 = float(input(\"Digite el primer numero: \"))\n",
        "num2 = float(input(\"Digite el segundo numero: \"))\n",
        "mult= num1 * num2\n",
        "print(\"La multiplicación es: \", mult)"
      ]
    },
    {
      "cell_type": "code",
      "execution_count": null,
      "metadata": {
        "colab": {
          "base_uri": "https://localhost:8080/"
        },
        "id": "ZTqxIr4XQMXd",
        "outputId": "9f9e9d4b-0f1e-481e-cf3c-c8fd6f91aff2"
      },
      "outputs": [
        {
          "name": "stdout",
          "output_type": "stream",
          "text": [
            "Digite el primer numero: 12\n",
            "Digite el segundo numero: 4\n",
            "La división es:  3.0\n"
          ]
        }
      ],
      "source": [
        "num1 = float(input(\"Digite el primer numero: \"))\n",
        "num2 = float(input(\"Digite el segundo numero: \"))\n",
        "div= num1 / num2\n",
        "print(\"La división es: \", div)"
      ]
    },
    {
      "cell_type": "markdown",
      "metadata": {
        "id": "ocMEabFdMkLe"
      },
      "source": [
        "# Clase - 26 de Julio"
      ]
    },
    {
      "cell_type": "markdown",
      "metadata": {
        "id": "_9elJwV3Mofd"
      },
      "source": [
        "**TIPOS DE DATOS**"
      ]
    },
    {
      "cell_type": "code",
      "execution_count": null,
      "metadata": {
        "colab": {
          "base_uri": "https://localhost:8080/"
        },
        "id": "WVvsX-T8M2gF",
        "outputId": "a36fe5b9-3dfd-4e7f-e0a1-7db3808b7d1d"
      },
      "outputs": [
        {
          "name": "stdout",
          "output_type": "stream",
          "text": [
            "Los valores: Num 1:  5  Num 2:  4.9\n",
            "Valor: Num 1:  5\n"
          ]
        }
      ],
      "source": [
        "num1 = 5 #variable de tipo entero.\n",
        "num2 = 4.9 #variable de tipo double, real, decimal.\n",
        "print(\"Los valores: Num 1: \", num1, \" Num 2: \", num2)\n",
        "\n",
        "#num1 = 4.9\n",
        "print(\"Valor: Num 1: \", num1)"
      ]
    },
    {
      "cell_type": "code",
      "execution_count": null,
      "metadata": {
        "colab": {
          "base_uri": "https://localhost:8080/"
        },
        "id": "HmBx6791M7Vu",
        "outputId": "742fbe6e-2aa6-466a-bb45-861032a32b4d"
      },
      "outputs": [
        {
          "name": "stdout",
          "output_type": "stream",
          "text": [
            "Variable Booleana:  False\n"
          ]
        }
      ],
      "source": [
        "varLogica = False\n",
        "\n",
        "print(\"Variable Booleana: \", varLogica)"
      ]
    },
    {
      "cell_type": "code",
      "execution_count": null,
      "metadata": {
        "colab": {
          "base_uri": "https://localhost:8080/"
        },
        "id": "DIbp2gvSM9eh",
        "outputId": "de1280f3-e436-4001-f762-93e9407ea605"
      },
      "outputs": [
        {
          "name": "stdout",
          "output_type": "stream",
          "text": [
            "Mi Nombre:  Luis Hernandez Iniciales:  L H Longitud:  14\n",
            "Primer Nombre:  Luis \n",
            "Primer Nombre:  Luis \n",
            "Apellido:  Hernandez\n",
            "Apellid:  Hernandez\n",
            "Apellido:  Hernandez\n"
          ]
        }
      ],
      "source": [
        "nombre = \"Luis Hernandez\"\n",
        "print(\"Mi Nombre: \", nombre, \"Iniciales: \", nombre[0], nombre[5], \"Longitud: \", len(nombre) )\n",
        "print(\"Primer Nombre: \", nombre[0:5])\n",
        "print(\"Primer Nombre: \", nombre[:5])\n",
        "print(\"Apellido: \", nombre[5:len(nombre)])\n",
        "print(\"Apellid: \", nombre[5:])\n",
        "print(\"Apellido: \", nombre[-9:])"
      ]
    },
    {
      "cell_type": "code",
      "execution_count": null,
      "metadata": {
        "colab": {
          "base_uri": "https://localhost:8080/"
        },
        "id": "xTGkaU87NDmE",
        "outputId": "3d57b720-b597-4325-e54d-1aabfbf467f8"
      },
      "outputs": [
        {
          "name": "stdout",
          "output_type": "stream",
          "text": [
            "<class 'int'>\n",
            "<class 'float'>\n",
            "<class 'bool'>\n",
            "<class 'str'>\n"
          ]
        }
      ],
      "source": [
        "print(type(num1))\n",
        "print(type(num2))\n",
        "print(type(varLogica))\n",
        "print(type(nombre))"
      ]
    },
    {
      "cell_type": "code",
      "execution_count": null,
      "metadata": {
        "colab": {
          "base_uri": "https://localhost:8080/"
        },
        "id": "M9wAzy4jNHiH",
        "outputId": "41200456-5241-4582-b04a-218a6947ca94"
      },
      "outputs": [
        {
          "name": "stdout",
          "output_type": "stream",
          "text": [
            "Num 1: 12\n",
            "Num 2: 12\n",
            "La suma es:  24.0\n"
          ]
        }
      ],
      "source": [
        "num1 = float(input(\"Num 1: \"))\n",
        "num2 = float(input(\"Num 2: \"))\n",
        "resp = num1 + num2\n",
        "print(\"La suma es: \", resp)"
      ]
    },
    {
      "cell_type": "code",
      "execution_count": null,
      "metadata": {
        "id": "arJO0e3pNLBj"
      },
      "outputs": [],
      "source": [
        "def suma(num1, num2):\n",
        "  return num1 + num2"
      ]
    },
    {
      "cell_type": "code",
      "execution_count": null,
      "metadata": {
        "colab": {
          "base_uri": "https://localhost:8080/"
        },
        "id": "IAjoziaUNNKQ",
        "outputId": "0eec9aaf-283e-42d7-ebab-53befe5167e6"
      },
      "outputs": [
        {
          "name": "stdout",
          "output_type": "stream",
          "text": [
            "Num 1: 13\n",
            "N4.26um 2: 23\n",
            "36.0\n"
          ]
        }
      ],
      "source": [
        "num1 = float(input(\"Num 1: \"))\n",
        "num2 = float(input(\"N4.26um 2: \"))\n",
        "resp = suma(num1, num2)\n",
        "print(resp)"
      ]
    },
    {
      "cell_type": "markdown",
      "metadata": {
        "id": "dIc9kkSRKkjb"
      },
      "source": [
        "# Práctica - 28 de Julio"
      ]
    },
    {
      "cell_type": "markdown",
      "metadata": {
        "id": "LLs6INarAasF"
      },
      "source": [
        "**FUNCIONES DE USUARIO**\n",
        "\n",
        "* Convertir grados celsius a farenheit."
      ]
    },
    {
      "cell_type": "code",
      "execution_count": null,
      "metadata": {
        "id": "v3WlVGVRBxIe"
      },
      "outputs": [],
      "source": [
        "def convertir_cf(c):\n",
        "  return c*9/5 + 32"
      ]
    },
    {
      "cell_type": "code",
      "execution_count": null,
      "metadata": {
        "colab": {
          "base_uri": "https://localhost:8080/"
        },
        "id": "Mj33QoxmAa9d",
        "outputId": "86713f4c-1f92-4273-c00a-7327ee52b455"
      },
      "outputs": [
        {
          "name": "stdout",
          "output_type": "stream",
          "text": [
            "Celsius: 42\n",
            "Farenheit:  107.6\n"
          ]
        }
      ],
      "source": [
        "c = float(input(\"Celsius: \"))\n",
        "print(\"Farenheit: \", convertir_cf(c))"
      ]
    },
    {
      "cell_type": "markdown",
      "metadata": {
        "id": "_LAJU7rIE4VN"
      },
      "source": [
        "* Convertir grados farenheit a celsius.\n",
        "\n"
      ]
    },
    {
      "cell_type": "code",
      "execution_count": null,
      "metadata": {
        "id": "U-Z3IjfTE_4S"
      },
      "outputs": [],
      "source": [
        "def convertir_fc(f):\n",
        "  return (f-32) * 5/9"
      ]
    },
    {
      "cell_type": "code",
      "execution_count": null,
      "metadata": {
        "colab": {
          "base_uri": "https://localhost:8080/"
        },
        "id": "qpa7rzPQFDoC",
        "outputId": "1343dd83-8564-446d-e548-6097ad81578f"
      },
      "outputs": [
        {
          "name": "stdout",
          "output_type": "stream",
          "text": [
            "Farenheit: 107.6\n",
            "Celsius:  42.0\n"
          ]
        }
      ],
      "source": [
        "f = float(input(\"Farenheit: \"))\n",
        "print(\"Celsius: \", convertir_fc(f))"
      ]
    },
    {
      "cell_type": "markdown",
      "metadata": {
        "id": "Uqw9Ox19GFbm"
      },
      "source": [
        "* Convertir grados celsius a kelvin."
      ]
    },
    {
      "cell_type": "code",
      "execution_count": null,
      "metadata": {
        "id": "YdQ8p4q8GHxg"
      },
      "outputs": [],
      "source": [
        "def convertir_ck(c):\n",
        "  return c + 273.15"
      ]
    },
    {
      "cell_type": "code",
      "execution_count": null,
      "metadata": {
        "colab": {
          "base_uri": "https://localhost:8080/"
        },
        "id": "pXTCzxqbGH_-",
        "outputId": "9b3fafd8-3fc8-463a-e85f-147912664c94"
      },
      "outputs": [
        {
          "name": "stdout",
          "output_type": "stream",
          "text": [
            "Celsius: 40\n",
            "Kelvin:  313.15\n"
          ]
        }
      ],
      "source": [
        "c = float(input(\"Celsius: \"))\n",
        "print(\"Kelvin: \", convertir_ck(c))"
      ]
    },
    {
      "cell_type": "markdown",
      "metadata": {
        "id": "V8l5UBvMHbcn"
      },
      "source": [
        "* Convertir grados farenheit a kelvin."
      ]
    },
    {
      "cell_type": "code",
      "execution_count": null,
      "metadata": {
        "id": "k5P9sXiRHcGF"
      },
      "outputs": [],
      "source": [
        "def convertir_fk(f):\n",
        "  return (f - 32) * 5/9 + 273.15"
      ]
    },
    {
      "cell_type": "code",
      "execution_count": null,
      "metadata": {
        "colab": {
          "base_uri": "https://localhost:8080/"
        },
        "id": "M8atxN1NHfIt",
        "outputId": "e30ecedc-3fc0-4a45-abc5-51f5c255c953"
      },
      "outputs": [
        {
          "name": "stdout",
          "output_type": "stream",
          "text": [
            "Farenheit: 100\n",
            "Kelvin:  310.92777777777775\n"
          ]
        }
      ],
      "source": [
        "f = float(input(\"Farenheit: \"))\n",
        "print(\"Kelvin: \", convertir_fk(f))"
      ]
    },
    {
      "cell_type": "markdown",
      "metadata": {
        "id": "iabPe8MxGnr-"
      },
      "source": [
        "* Convertir grados kelvin a celsius."
      ]
    },
    {
      "cell_type": "code",
      "execution_count": null,
      "metadata": {
        "id": "BSMKGux-Gpve"
      },
      "outputs": [],
      "source": [
        "def convertir_kc(k):\n",
        "  return k - 273.15"
      ]
    },
    {
      "cell_type": "code",
      "execution_count": null,
      "metadata": {
        "colab": {
          "base_uri": "https://localhost:8080/"
        },
        "id": "kZSbYnv9Gp-O",
        "outputId": "6dddb811-60f8-4deb-8183-ce4a970d43ad"
      },
      "outputs": [
        {
          "name": "stdout",
          "output_type": "stream",
          "text": [
            "Kelvin: 313.15\n",
            "Celsius:  40.0\n"
          ]
        }
      ],
      "source": [
        "k = float(input(\"Kelvin: \"))\n",
        "print(\"Celsius: \", convertir_kc(k))"
      ]
    },
    {
      "cell_type": "markdown",
      "metadata": {
        "id": "jyQsSRD5IHL-"
      },
      "source": [
        "* Convertir grados kelvin a farenheit."
      ]
    },
    {
      "cell_type": "code",
      "execution_count": null,
      "metadata": {
        "id": "FbGKCu9tIJmf"
      },
      "outputs": [],
      "source": [
        "def convertir_kf(k):\n",
        "  return (k - 273.15) * 9/5 + 32"
      ]
    },
    {
      "cell_type": "code",
      "execution_count": null,
      "metadata": {
        "colab": {
          "base_uri": "https://localhost:8080/"
        },
        "id": "KbIJspaHIJz_",
        "outputId": "6025a8cd-b700-4033-dec5-915163d7063d"
      },
      "outputs": [
        {
          "name": "stdout",
          "output_type": "stream",
          "text": [
            "Kelvin: 310.928\n",
            "Farenheit:  100.00040000000004\n"
          ]
        }
      ],
      "source": [
        "k = float(input(\"Kelvin: \"))\n",
        "print(\"Farenheit: \", convertir_kf(k))"
      ]
    },
    {
      "cell_type": "markdown",
      "metadata": {
        "id": "n-SOa42BJJVo"
      },
      "source": [
        "* CALCULAR EL SUELDO MENSUAL"
      ]
    },
    {
      "cell_type": "code",
      "execution_count": null,
      "metadata": {
        "id": "w3bftYdaKM0Y"
      },
      "outputs": [],
      "source": [
        "def sueldo(numHrs, valorXhr):\n",
        "  sueldo = numHrs*valorXhr*30\n",
        "  if(numHrs>8):\n",
        "    sueldo += (numHrs-8)*valorXhr*2*30\n",
        "  #isss + afp = 3 + 6.25 = 9.25 = 100 - 9.25 = 90.75/100 = 0.09075\n",
        "  #sueldo = sueldo*0.9075\n",
        "  return sueldo"
      ]
    },
    {
      "cell_type": "code",
      "execution_count": null,
      "metadata": {
        "id": "144AsjRMVMht"
      },
      "outputs": [],
      "source": [
        "tabla_isr = [\n",
        "    [0.01, 472, 0, 0],\n",
        "    [472.01, 895.24, 0.1, 17.67],\n",
        "    [895.25, 2038.1, 0.2, 60.00],\n",
        "    [2038.11, 9999999, 0.3, 288.57]\n",
        "]"
      ]
    },
    {
      "cell_type": "code",
      "execution_count": null,
      "metadata": {
        "id": "eg6gzZaKXVcA"
      },
      "outputs": [],
      "source": [
        "def calcularIsr(sueldo, sueldoNeto):\n",
        "  impSr = 0\n",
        "  for tramo in tabla_isr:\n",
        "    if sueldo>tramo[0] and sueldo<=tramo[1]:\n",
        "      impSr = (sueldoNeto-tramo[0])*tramo[2] +tramo [3]\n",
        "  return impSr"
      ]
    },
    {
      "cell_type": "code",
      "execution_count": null,
      "metadata": {
        "colab": {
          "base_uri": "https://localhost:8080/"
        },
        "id": "PuPSjiwqKtip",
        "outputId": "105c2100-8f41-4da7-be02-607730d5712b"
      },
      "outputs": [
        {
          "name": "stdout",
          "output_type": "stream",
          "text": [
            "Horas trabajadas: 8\n",
            "Sueldo:  960.0 ISR:  55.18999999999998 816.01\n"
          ]
        }
      ],
      "source": [
        "valorXhr = 4\n",
        "#isss = 3%\n",
        "#afp = 6.25%\n",
        "numHrs = float(input(\"Horas trabajadas: \"))\n",
        "s = sueldo(numHrs, valorXhr)\n",
        "isr = calcularIsr(s, s*0.9075)\n",
        "print(\"Sueldo: \", s, \"ISR: \", isr, s*0.9075-isr)"
      ]
    },
    {
      "cell_type": "markdown",
      "metadata": {
        "id": "8ZMYhHibMMbh"
      },
      "source": [
        "# Clase - 9 de Agosto"
      ]
    },
    {
      "cell_type": "markdown",
      "metadata": {
        "id": "fX7ie3ctNVnu"
      },
      "source": [
        "## Funcions Lambda"
      ]
    },
    {
      "cell_type": "markdown",
      "metadata": {
        "id": "vW6l-gcwNp28"
      },
      "source": [
        "* FUNCIONES PRECONTRUIDAS MAP, FILTER, FIND, REDUCE, ETC."
      ]
    },
    {
      "cell_type": "code",
      "execution_count": null,
      "metadata": {
        "id": "wP2yoFQgNtMZ"
      },
      "outputs": [],
      "source": [
        "def elevarCuadrado(num):\n",
        "  return num**2"
      ]
    },
    {
      "cell_type": "code",
      "execution_count": null,
      "metadata": {
        "id": "-uZdt4YxNwjQ"
      },
      "outputs": [],
      "source": [
        "data = [1,2,3,4,5]"
      ]
    },
    {
      "cell_type": "code",
      "execution_count": null,
      "metadata": {
        "colab": {
          "base_uri": "https://localhost:8080/"
        },
        "id": "iG7w3F-xNyQB",
        "outputId": "56e38451-305c-4cb6-d935-eb5aa91010cb"
      },
      "outputs": [
        {
          "name": "stdout",
          "output_type": "stream",
          "text": [
            "[1, 4, 9, 16, 25]\n"
          ]
        }
      ],
      "source": [
        "resp = map(elevarCuadrado, data)\n",
        "print(list(resp))"
      ]
    },
    {
      "cell_type": "code",
      "execution_count": null,
      "metadata": {
        "colab": {
          "base_uri": "https://localhost:8080/"
        },
        "id": "jNbQB8hrN0mT",
        "outputId": "e6f87cd0-bf28-461a-c9bb-4efd4c89667e"
      },
      "outputs": [
        {
          "name": "stdout",
          "output_type": "stream",
          "text": [
            "[1, 4, 9, 16, 25]\n"
          ]
        }
      ],
      "source": [
        "resp = map(lambda n:n**2, data)\n",
        "print(list(resp))"
      ]
    },
    {
      "cell_type": "code",
      "execution_count": null,
      "metadata": {
        "colab": {
          "base_uri": "https://localhost:8080/"
        },
        "id": "tdJaSUWMN23y",
        "outputId": "713867a2-9dab-43de-b288-f1b9458fb85e"
      },
      "outputs": [
        {
          "name": "stdout",
          "output_type": "stream",
          "text": [
            "[3, 4, 5]\n"
          ]
        }
      ],
      "source": [
        "resp = filter(lambda n:n>2, data)\n",
        "print( list(resp) )"
      ]
    },
    {
      "cell_type": "code",
      "execution_count": null,
      "metadata": {
        "colab": {
          "base_uri": "https://localhost:8080/"
        },
        "id": "OoLyhxbpN48f",
        "outputId": "29d98019-74d6-4854-f80a-39ddbba7433d"
      },
      "outputs": [
        {
          "name": "stdout",
          "output_type": "stream",
          "text": [
            "15\n"
          ]
        }
      ],
      "source": [
        "import functools\n",
        "\n",
        "resp = functools.reduce(lambda a,n:a+n, data)\n",
        "print(resp)"
      ]
    },
    {
      "cell_type": "markdown",
      "metadata": {
        "id": "z4BgfcAiNbNn"
      },
      "source": [
        "## Tuplas"
      ]
    },
    {
      "cell_type": "code",
      "execution_count": null,
      "metadata": {
        "colab": {
          "base_uri": "https://localhost:8080/"
        },
        "id": "juC6BVBfOGlg",
        "outputId": "82fd8d6d-fe45-4afd-b534-f442d63b8cd6"
      },
      "outputs": [
        {
          "name": "stdout",
          "output_type": "stream",
          "text": [
            "1\n",
            "7\n"
          ]
        }
      ],
      "source": [
        "semana = (\"domingo\", \"lunes\", \"martes\", \"miercoles\", \"jueves\", \"viernes\", \"sabado\")\n",
        "#semana[0] = \"otro\"\n",
        "print( semana.count(\"domingo\") ) #count cuenta el numero de veces que aparece un elemento en la tupla\n",
        "print( len(semana) )"
      ]
    },
    {
      "cell_type": "markdown",
      "metadata": {
        "id": "eqE9OoyuNeBY"
      },
      "source": [
        "## Listas => Array"
      ]
    },
    {
      "cell_type": "code",
      "execution_count": null,
      "metadata": {
        "colab": {
          "base_uri": "https://localhost:8080/"
        },
        "id": "fu3EPSfTOK2g",
        "outputId": "86f0f972-cf90-4482-d3b8-a9f8824dcea8"
      },
      "outputs": [
        {
          "name": "stdout",
          "output_type": "stream",
          "text": [
            "['nov', 'dic']\n",
            "['ene', 'feb']\n",
            "['enero', 'feb', 'mar', 'abr', 'may', 'jun', 'jul', 'ago', 'sep', 'oct', 'nov', 'dic']\n"
          ]
        }
      ],
      "source": [
        "meses = [\"ene\", \"feb\", \"mar\", \"abr\", \"may\", \"jun\", \"jul\", \"ago\", \"sep\", \"oct\", \"nov\", \"dic\"]\n",
        "print( meses[-2:] ) #ultimos dos meses del año\n",
        "print( meses[:2] ) #primero dos meses del año\n",
        "\n",
        "meses[0] = \"enero\"\n",
        "\n",
        "print( meses )"
      ]
    },
    {
      "cell_type": "code",
      "execution_count": null,
      "metadata": {
        "colab": {
          "base_uri": "https://localhost:8080/"
        },
        "id": "3Xi4Z30zONNx",
        "outputId": "3070d87b-a43d-4124-bd76-c6f6cc1af1d0"
      },
      "outputs": [
        {
          "name": "stdout",
          "output_type": "stream",
          "text": [
            "Progra II\n"
          ]
        }
      ],
      "source": [
        "materias = [ [\"Progra I\", [5,6,8], [8,7,9], [9,10,9] ], [\"Progra II\"] ]\n",
        "print( materias[1][0] )"
      ]
    },
    {
      "cell_type": "markdown",
      "metadata": {
        "id": "7lncvyQkNiQe"
      },
      "source": [
        "## Diccionarios => JSON"
      ]
    },
    {
      "cell_type": "code",
      "execution_count": null,
      "metadata": {
        "colab": {
          "base_uri": "https://localhost:8080/"
        },
        "id": "j3oNea8pOQ3F",
        "outputId": "81bda592-8e13-4371-a4c0-cbb238908911"
      },
      "outputs": [
        {
          "name": "stdout",
          "output_type": "stream",
          "text": [
            "5\n"
          ]
        }
      ],
      "source": [
        "materias = {\n",
        "    \"Progra I\": {\n",
        "        \"c1\": {\n",
        "          \"lab1\" : 5,\n",
        "          \"lab2\" : 6,\n",
        "          \"parcial\" : 8\n",
        "      },\n",
        "      \"c2\": {\n",
        "          \"lab1\" : 8,\n",
        "          \"lab2\" : 7,\n",
        "          \"parcial\" : 9\n",
        "      },\n",
        "      \"c3\": {\n",
        "          \"lab1\" : 9,\n",
        "          \"lab2\" : 10,\n",
        "          \"parcial\" : 9\n",
        "      }\n",
        "    },\n",
        "    \"Progra II\" :{\n",
        "\n",
        "    }\n",
        "}\n",
        "print( materias[\"Progra I\"][\"c1\"][\"lab1\"] )"
      ]
    },
    {
      "cell_type": "markdown",
      "metadata": {
        "id": "EYhXliQcFj5k"
      },
      "source": [
        "# Práctica - 11 de Agosto"
      ]
    },
    {
      "cell_type": "markdown",
      "metadata": {
        "id": "Hzr5vCniG91B"
      },
      "source": [
        "## **Listas**"
      ]
    },
    {
      "cell_type": "code",
      "execution_count": null,
      "metadata": {
        "id": "RV-UmXmpFs6W"
      },
      "outputs": [],
      "source": [
        "data = [2,5,6,8,9]"
      ]
    },
    {
      "cell_type": "code",
      "execution_count": null,
      "metadata": {
        "colab": {
          "base_uri": "https://localhost:8080/"
        },
        "id": "puhPV4JGHYNc",
        "outputId": "93858211-6e2f-45d9-e3b1-3a2affdabb8e"
      },
      "outputs": [
        {
          "name": "stdout",
          "output_type": "stream",
          "text": [
            "[8, 125, 216, 512, 729]\n"
          ]
        }
      ],
      "source": [
        "resp = map(lambda n:n**3, data)\n",
        "print(list(resp))"
      ]
    },
    {
      "cell_type": "code",
      "execution_count": null,
      "metadata": {
        "colab": {
          "base_uri": "https://localhost:8080/"
        },
        "id": "vLO-qDwqIVG3",
        "outputId": "b47ca6b3-8048-467f-ae6f-cf445998d9c9"
      },
      "outputs": [
        {
          "name": "stdout",
          "output_type": "stream",
          "text": [
            "[35.6, 41.0, 42.8, 46.4, 48.2]\n"
          ]
        }
      ],
      "source": [
        "fahrenheit = map(lambda c: c * 9/5 + 32, data)\n",
        "print(list(fahrenheit))"
      ]
    },
    {
      "cell_type": "code",
      "execution_count": null,
      "metadata": {
        "colab": {
          "base_uri": "https://localhost:8080/"
        },
        "id": "FI-RzNjJLBdh",
        "outputId": "841e3dc0-54df-48bc-8a97-2d46d15f535f"
      },
      "outputs": [
        {
          "name": "stdout",
          "output_type": "stream",
          "text": [
            "[2, 6, 8]\n"
          ]
        }
      ],
      "source": [
        "par = filter(lambda x: x%2 == 0, data)\n",
        "print(list(par))"
      ]
    },
    {
      "cell_type": "code",
      "execution_count": null,
      "metadata": {
        "colab": {
          "base_uri": "https://localhost:8080/"
        },
        "id": "CEIbrmi_MLv_",
        "outputId": "0c63cfe7-8704-453f-b264-69e19f536e2a"
      },
      "outputs": [
        {
          "name": "stdout",
          "output_type": "stream",
          "text": [
            "[5, 9]\n"
          ]
        }
      ],
      "source": [
        "impar = filter(lambda x: x%2 != 0, data)\n",
        "print(list(impar))"
      ]
    },
    {
      "cell_type": "markdown",
      "metadata": {
        "id": "vOoRPQrXOaUy"
      },
      "source": [
        "## CICLOS"
      ]
    },
    {
      "cell_type": "markdown",
      "metadata": {
        "id": "QS2v-utsOu-F"
      },
      "source": [
        "* **FOR**"
      ]
    },
    {
      "cell_type": "code",
      "execution_count": null,
      "metadata": {
        "colab": {
          "base_uri": "https://localhost:8080/"
        },
        "id": "2rbnrh6yOdF1",
        "outputId": "c0688774-f886-4e7d-dd46-4e4340e1a315"
      },
      "outputs": [
        {
          "name": "stdout",
          "output_type": "stream",
          "text": [
            "2\n",
            "5\n",
            "6\n",
            "8\n",
            "9\n"
          ]
        }
      ],
      "source": [
        "for item in data:\n",
        "  print(item)"
      ]
    },
    {
      "cell_type": "markdown",
      "metadata": {
        "id": "RSMsVazqPAzx"
      },
      "source": [
        "* **WHILE**"
      ]
    },
    {
      "cell_type": "code",
      "execution_count": null,
      "metadata": {
        "colab": {
          "base_uri": "https://localhost:8080/"
        },
        "id": "Os5VejaEO_OB",
        "outputId": "5c94cfa0-0d13-4b21-b5fa-9a3f81d7c821"
      },
      "outputs": [
        {
          "name": "stdout",
          "output_type": "stream",
          "text": [
            "2\n",
            "5\n",
            "6\n",
            "8\n",
            "9\n"
          ]
        }
      ],
      "source": [
        "i=0\n",
        "n = len(data)\n",
        "while i<n:\n",
        "  print( data[i] )\n",
        "  i+=1"
      ]
    },
    {
      "cell_type": "markdown",
      "metadata": {
        "id": "fzcwn6DsTcQw"
      },
      "source": [
        "**TABLA DE MULTIPLICAR**"
      ]
    },
    {
      "cell_type": "code",
      "execution_count": null,
      "metadata": {
        "colab": {
          "base_uri": "https://localhost:8080/"
        },
        "id": "A1wW1N9wTjrQ",
        "outputId": "e68004b0-76d9-4d91-aa6a-08a07ff5665a"
      },
      "outputs": [
        {
          "name": "stdout",
          "output_type": "stream",
          "text": [
            "Numero: 12\n",
            "12 x 1 = 12\n",
            "12 x 2 = 24\n",
            "12 x 3 = 36\n",
            "12 x 4 = 48\n",
            "12 x 5 = 60\n",
            "12 x 6 = 72\n",
            "12 x 7 = 84\n",
            "12 x 8 = 96\n",
            "12 x 9 = 108\n",
            "12 x 10 = 120\n"
          ]
        }
      ],
      "source": [
        "num = int(input(\"Numero: \"))\n",
        "for item in range(1, 11):\n",
        "  print(num, 'x', item, '=', num*item)"
      ]
    },
    {
      "cell_type": "code",
      "execution_count": null,
      "metadata": {
        "id": "CXT651GTSZiC"
      },
      "outputs": [],
      "source": [
        "num = int(input(\"Numero: \"))\n",
        "count = 1\n",
        "\n",
        "while count <= 10:\n",
        "  num = num * 1\n",
        "  print(num, 'x', count, '=', num * count)\n",
        "  count += 1"
      ]
    },
    {
      "cell_type": "code",
      "execution_count": null,
      "metadata": {
        "id": "zUlllE19Z-Fr"
      },
      "outputs": [],
      "source": [
        "def calcular_deducciones(sueldo):\n",
        "    # Deducción ISSS\n",
        "    deduccion_isss = sueldo * 0.03\n",
        "\n",
        "    # Deducción AFP\n",
        "    deduccion_afp = sueldo * 0.0625\n",
        "\n",
        "    # Deducción ISR\n",
        "    deduccion_isr = 0\n",
        "    tabla_isr = [\n",
        "        [0.01, 472, 0, 0],\n",
        "        [472.01, 895.24, 0.1, 17.67],\n",
        "        [895.25, 2038.1, 0.2, 60.00],\n",
        "        [2038.11, 9999999, 0.3, 288.57]\n",
        "    ]\n",
        "\n",
        "    for rango in tabla_isr:\n",
        "        if sueldo >= rango[0] and sueldo <= rango[1]:\n",
        "            deduccion_isr = (sueldo - rango[0] + 1) * rango[2] + rango[3]\n",
        "            break\n",
        "\n",
        "    # Suma de deducciones\n",
        "    total_deducciones = deduccion_isss + deduccion_afp + deduccion_isr\n",
        "\n",
        "    # Calculo de sueldo neto\n",
        "    sueldo_neto = sueldo - total_deducciones\n",
        "\n",
        "    return total_deducciones, sueldo_neto\n",
        "\n",
        "# Obtener el sueldo del usuario\n",
        "sueldo = float(input(\"Ingrese el sueldo: \"))\n",
        "\n",
        "total_deducciones, sueldo_neto = calcular_deducciones(sueldo)\n",
        "\n",
        "# Imprimir resultados\n",
        "print(f\"Total deducciones: ${total_deducciones:.2f}\")\n",
        "print(f\"Sueldo neto: ${sueldo_neto:.2f}\")\n"
      ]
    },
    {
      "cell_type": "code",
      "execution_count": null,
      "metadata": {
        "id": "2c1xmh6gaqcC"
      },
      "outputs": [],
      "source": [
        "def sueldo(numHrs, valorXhr):\n",
        "    sueldo_base = numHrs * valorXhr * 30\n",
        "    if numHrs > 8:\n",
        "        horas_extras = numHrs - 8\n",
        "        sueldo_base += horas_extras * valorXhr * 2 * 30\n",
        "    return sueldo_base\n",
        "\n",
        "tabla_isr = [\n",
        "    [0.01, 472, 0, 0],\n",
        "    [472.01, 895.24, 0.1, 17.67],\n",
        "    [895.25, 2038.1, 0.2, 60.00],\n",
        "    [2038.11, 9999999, 0.3, 288.57]\n",
        "]\n",
        "\n",
        "def calcularIsr(sueldo):\n",
        "    impSr = 0\n",
        "    for tramo in tabla_isr:\n",
        "        if sueldo >= tramo[0] and sueldo <= tramo[1]:\n",
        "            impSr = (sueldo - tramo[0]) * tramo[2] + tramo[3]\n",
        "            return impSr\n",
        "    return impSr\n",
        "\n",
        "valorXhr = 1.45\n",
        "numHrs = float(input(\"Horas trabajadas: \"))\n",
        "\n",
        "sueldo_bruto = sueldo(numHrs, valorXhr)\n",
        "isss = sueldo_bruto * 0.03\n",
        "afp = sueldo_bruto * 0.0625\n",
        "sueldo_neto = sueldo_bruto - isss - afp\n",
        "impSr = calcularIsr(sueldo_bruto)\n",
        "sueldo_neto -= impSr\n",
        "\n",
        "print(\"Sueldo Bruto:\", sueldo_bruto)\n",
        "print(\"ISSS:\", isss)\n",
        "print(\"AFP:\", afp)\n",
        "print(\"ISR:\", impSr)\n",
        "print(\"Total Deducciones:\", isss + afp + impSr)\n",
        "print(\"Sueldo Neto:\", sueldo_neto)\n"
      ]
    },
    {
      "cell_type": "code",
      "execution_count": null,
      "metadata": {
        "id": "TcYc2NOB0Nn_"
      },
      "outputs": [],
      "source": [
        "def acumulacion_meses(n):\n",
        "    return n * (n + 1) // 2\n",
        "\n",
        "meses = int(input(\"Hasta cuántos meses quieres calcular? \"))\n",
        "\n",
        "print(\"MESES\", \" \" * 10, \"ACUMULACION\")\n",
        "for i in range(1, meses + 1):\n",
        "    print(i, \" \" * (15 - len(str(i))), acumulacion_meses(i))"
      ]
    },
    {
      "cell_type": "code",
      "execution_count": null,
      "metadata": {
        "id": "20X0oHPr06si"
      },
      "outputs": [],
      "source": [
        "def caja_a_unidad(cajas):\n",
        "    return cajas * 25\n",
        "\n",
        "def unidad_a_caja(unidades):\n",
        "    cajas_completas = unidades // 25\n",
        "    unidades_restantes = unidades % 25\n",
        "    return f\"{cajas_completas} cajas y {unidades_restantes} unidades\"\n",
        "\n",
        "def saco_a_libra(sacos):\n",
        "    return sacos * 50\n",
        "\n",
        "def libra_a_saco(libras):\n",
        "    sacos_completos = libras // 50\n",
        "    libras_restantes = libras % 50\n",
        "    return f\"{sacos_completos} sacos y {libras_restantes} libras\"\n",
        "\n",
        "def fardo_a_unidad(fardos):\n",
        "    return fardos * 5\n",
        "\n",
        "def unidad_a_fardo(unidades):\n",
        "    fardos_completos = unidades // 5\n",
        "    unidades_restantes = unidades % 5\n",
        "    return f\"{fardos_completos} fardos y {unidades_restantes} unidades\"\n",
        "\n",
        "# Pruebas\n",
        "print(caja_a_unidad(1))         # 25\n",
        "print(unidad_a_caja(80))       # \"3 cajas y 5 unidades\"\n",
        "print(saco_a_libra(1))         # 50\n",
        "print(libra_a_saco(130))       # \"2 sacos y 30 libras\"\n",
        "print(fardo_a_unidad(1))       # 5\n",
        "print(unidad_a_fardo(28))      # \"5 fardos y 3 unidades\"\n"
      ]
    },
    {
      "cell_type": "code",
      "execution_count": null,
      "metadata": {
        "id": "rgHt2o371OqR"
      },
      "outputs": [],
      "source": [
        "def caja_a_unidad(cajas):\n",
        "    return cajas * 25\n",
        "\n",
        "def unidad_a_caja(unidades):\n",
        "    cajas_completas = unidades // 25\n",
        "    unidades_restantes = unidades % 25\n",
        "    return f\"{cajas_completas} cajas y {unidades_restantes} unidades\"\n",
        "\n",
        "def saco_a_libra(sacos):\n",
        "    return sacos * 50\n",
        "\n",
        "def libra_a_saco(libras):\n",
        "    sacos_completos = libras // 50\n",
        "    libras_restantes = libras % 50\n",
        "    return f\"{sacos_completos} sacos y {libras_restantes} libras\"\n",
        "\n",
        "def fardo_a_unidad(fardos):\n",
        "    return fardos * 5\n",
        "\n",
        "def unidad_a_fardo(unidades):\n",
        "    fardos_completos = unidades // 5\n",
        "    unidades_restantes = unidades % 5\n",
        "    return f\"{fardos_completos} fardos y {unidades_restantes} unidades\"\n",
        "\n",
        "def main():\n",
        "    while True:\n",
        "        print(\"\\nConversor:\")\n",
        "        print(\"1. Caja a Unidad\")\n",
        "        print(\"2. Unidad a Caja\")\n",
        "        print(\"3. Saco a Libra\")\n",
        "        print(\"4. Libra a Saco\")\n",
        "        print(\"5. Fardo a Unidad\")\n",
        "        print(\"6. Unidad a Fardo\")\n",
        "        print(\"7. Salir\")\n",
        "        opcion = int(input(\"Selecciona una opción: \"))\n",
        "\n",
        "        if opcion == 1:\n",
        "            cajas = float(input(\"Ingresa número de cajas: \"))\n",
        "            print(f\"{cajas} cajas son {caja_a_unidad(cajas)} unidades\")\n",
        "        elif opcion == 2:\n",
        "            unidades = float(input(\"Ingresa número de unidades: \"))\n",
        "            print(unidad_a_caja(unidades))\n",
        "        elif opcion == 3:\n",
        "            sacos = float(input(\"Ingresa número de sacos: \"))\n",
        "            print(f\"{sacos} sacos son {saco_a_libra(sacos)} libras\")\n",
        "        elif opcion == 4:\n",
        "            libras = float(input(\"Ingresa número de libras: \"))\n",
        "            print(libra_a_saco(libras))\n",
        "        elif opcion == 5:\n",
        "            fardos = float(input(\"Ingresa número de fardos: \"))\n",
        "            print(f\"{fardos} fardos son {fardo_a_unidad(fardos)} unidades\")\n",
        "        elif opcion == 6:\n",
        "            unidades = float(input(\"Ingresa número de unidades: \"))\n",
        "            print(unidad_a_fardo(unidades))\n",
        "        elif opcion == 7:\n",
        "            print(\"Hasta luego!\")\n",
        "            break\n",
        "        else:\n",
        "            print(\"Opción no válida. Intenta de nuevo.\")\n",
        "\n",
        "if __name__ == \"__main__\":\n",
        "    main()\n"
      ]
    },
    {
      "cell_type": "markdown",
      "metadata": {
        "id": "AeUQMZtXI4i-"
      },
      "source": [
        "# Práctica - 18 de Agosto"
      ]
    },
    {
      "cell_type": "markdown",
      "metadata": {
        "id": "wPtwdwbQJDJV"
      },
      "source": [
        "### **Escribir un programa que pida la nota de un examen (0-10), e imprimir por pantalla la calificación en formato: \"Suspenso\" si la nota es menor a 5, \"Aprobado\" si es entre 5 inclusive y 7 sin incluir, \"Notable\" si esta entre 7 inclusive y 9 sin incluir, \"Sobresaliente\" si esta entre 9 inclusive y 10 sin incluir, y \"Honorable\" si es 10.**"
      ]
    },
    {
      "cell_type": "code",
      "execution_count": null,
      "metadata": {
        "id": "EZr87T6GNHJ_"
      },
      "outputs": [],
      "source": [
        "nota = float(input(\"Ingresa la nota del examen: \"))\n",
        "\n",
        "if nota >= 0 and nota < 5:\n",
        "  print(\"Suspenso\")\n",
        "elif nota >= 5 and nota < 7:\n",
        "  print(\"Aprobado\")\n",
        "elif nota >= 7 and nota < 9:\n",
        "  print(\"Notable\")\n",
        "elif nota >= 9 and nota < 10:\n",
        "  print(\"Sobresaliente\")\n",
        "elif nota == 10:\n",
        "  print(\"Honorable\")\n",
        "else:\n",
        "  print(\"La calificación no puede ser menor que 0 o mayor que 10\")"
      ]
    },
    {
      "cell_type": "code",
      "execution_count": null,
      "metadata": {
        "id": "WWV07szXR-hB"
      },
      "outputs": [],
      "source": [
        "nota = float(input(\"Nota: \"))\n",
        "if(nota<0 or nota >10):\n",
        "  print(\"Nota invalida\")\n",
        "elif(nota<5):\n",
        "  print(\"SUSPENSO\")\n",
        "elif(nota<7):\n",
        "  print(\"APROBADO\")\n",
        "elif(nota<9):\n",
        "  print(\"NOTABLE\")\n",
        "elif(nota<10):\n",
        "  print(\"SOBRESALIENTE\")\n",
        "else:\n",
        "  print(\"HONORABLE\")"
      ]
    },
    {
      "cell_type": "markdown",
      "metadata": {
        "id": "J3nJ0gD5TbKt"
      },
      "source": [
        "### **Escriba un programa que muestre la secuencia fibonacci**"
      ]
    },
    {
      "cell_type": "code",
      "execution_count": null,
      "metadata": {
        "colab": {
          "base_uri": "https://localhost:8080/"
        },
        "id": "iLrqprgUZGtf",
        "outputId": "ebc0fc5c-d259-4a99-c41b-ff2779a57747"
      },
      "outputs": [
        {
          "name": "stdout",
          "output_type": "stream",
          "text": [
            "Limit: 45\n",
            "0 + 1 = 1\n",
            "1 + 0 = 1\n",
            "1 + 1 = 2\n",
            "2 + 1 = 3\n",
            "3 + 2 = 5\n",
            "5 + 3 = 8\n",
            "8 + 5 = 13\n",
            "13 + 8 = 21\n",
            "21 + 13 = 34\n",
            "34 + 21 = 55\n"
          ]
        }
      ],
      "source": [
        "limit = int(input(\"Limit: \"))\n",
        "a=0\n",
        "b=1\n",
        "c=0\n",
        "while c<limit:\n",
        "  c=a+b\n",
        "  print(a,\"+\",b,\"=\", c)\n",
        "  b=a\n",
        "  a=c"
      ]
    },
    {
      "cell_type": "markdown",
      "metadata": {
        "id": "47Ny8uCrJTom"
      },
      "source": [
        "# Clase - 23 de Agosto"
      ]
    },
    {
      "cell_type": "markdown",
      "metadata": {
        "id": "uDrdjF1hQHD8"
      },
      "source": [
        "**Programación Orientada a Objetos**"
      ]
    },
    {
      "cell_type": "markdown",
      "metadata": {
        "id": "6ZQNr36fRSUd"
      },
      "source": [
        "* Clase"
      ]
    },
    {
      "cell_type": "code",
      "execution_count": null,
      "metadata": {
        "id": "g8D8gmhkJbAT"
      },
      "outputs": [],
      "source": [
        "class Calculadora:\n",
        "  def sumar(self, num1, num2):\n",
        "    return num1 + num2"
      ]
    },
    {
      "cell_type": "markdown",
      "metadata": {
        "id": "aYC_lce7RT86"
      },
      "source": [
        "* Instancia de una clase"
      ]
    },
    {
      "cell_type": "code",
      "execution_count": null,
      "metadata": {
        "id": "l4g4xfHlRWjI"
      },
      "outputs": [],
      "source": [
        "objCalculadora = Calculadora()"
      ]
    },
    {
      "cell_type": "markdown",
      "metadata": {
        "id": "TWR9MxcGRcUD"
      },
      "source": [
        "* Objeto"
      ]
    },
    {
      "cell_type": "code",
      "execution_count": null,
      "metadata": {
        "colab": {
          "base_uri": "https://localhost:8080/"
        },
        "id": "7zjL92O2Rd2e",
        "outputId": "9b8ba54d-6403-449d-9d7d-e0c2aed33c5d"
      },
      "outputs": [
        {
          "name": "stdout",
          "output_type": "stream",
          "text": [
            "La suma de 5 + 3 =  8\n"
          ]
        }
      ],
      "source": [
        "print (\"La suma de 5 + 3 = \", objCalculadora.sumar(5,3))"
      ]
    },
    {
      "cell_type": "markdown",
      "metadata": {
        "id": "9SVa8GjmO67v"
      },
      "source": [
        "# Ejercicios - Tareas"
      ]
    },
    {
      "cell_type": "markdown",
      "metadata": {
        "id": "S18KM5vlsn7B"
      },
      "source": [
        "\n",
        "## **Calcular sobre el sueldo las deducciones por ley ISSS (3%), AFP (6.25%), ISR (Según tabla) e imprima el total deducciones y sueldo neto.**\n"
      ]
    },
    {
      "cell_type": "code",
      "execution_count": null,
      "metadata": {
        "id": "h7LUjIIntRX5"
      },
      "outputs": [],
      "source": [
        "def sueldo(numHrs, valorXhr):\n",
        "  sueldo = numHrs*valorXhr*30\n",
        "  if(numHrs>8):\n",
        "    sueldo += (numHrs-8)*valorXhr*2*30\n",
        "  #isss + afp = 3 + 6.25 = 9.25 = 100 - 9.25 = 90.75/100 = 0.09075\n",
        "  #sueldo = sueldo*0.9075\n",
        "  return sueldo"
      ]
    },
    {
      "cell_type": "code",
      "execution_count": null,
      "metadata": {
        "id": "vhGaqObQtTs3"
      },
      "outputs": [],
      "source": [
        "tabla_isr = [\n",
        "    [0.01, 472, 0, 0],\n",
        "    [472.01, 895.24, 0.1, 17.67],\n",
        "    [895.25, 2038.1, 0.2, 60.00],\n",
        "    [2038.11, 9999999, 0.3, 288.57]\n",
        "]"
      ]
    },
    {
      "cell_type": "code",
      "execution_count": null,
      "metadata": {
        "id": "nFpWwTWutVxE"
      },
      "outputs": [],
      "source": [
        "def calcularIsr(sueldo, sueldoNeto):\n",
        "  impSr = 0\n",
        "  for tramo in tabla_isr:\n",
        "    if sueldo>tramo[0] and sueldo<=tramo[1]:\n",
        "      impSr = (sueldoNeto-tramo[0])*tramo[2] +tramo [3]\n",
        "  return impSr"
      ]
    },
    {
      "cell_type": "code",
      "execution_count": null,
      "metadata": {
        "colab": {
          "base_uri": "https://localhost:8080/"
        },
        "id": "PeTsq74NtZ7w",
        "outputId": "90f51b07-8eb6-4200-b579-f8eeaf29141f"
      },
      "outputs": [
        {
          "name": "stdout",
          "output_type": "stream",
          "text": [
            "Horas trabajadas: 3\n",
            "Sueldo:  360.0 ISR:  0.0 326.7\n"
          ]
        }
      ],
      "source": [
        "valorXhr = 4\n",
        "#isss = 3%\n",
        "#afp = 6.25%\n",
        "numHrs = float(input(\"Horas trabajadas: \"))\n",
        "s = sueldo(numHrs, valorXhr)\n",
        "isr = calcularIsr(s, s*0.9075)\n",
        "print(\"Sueldo: \", s, \"ISR: \", isr, s*0.9075-isr)"
      ]
    },
    {
      "cell_type": "markdown",
      "metadata": {
        "id": "ZDnU1zgruBn9"
      },
      "source": [
        "## **Calcular el valor a pagar según el número de metros consumidos de agua potable**"
      ]
    },
    {
      "cell_type": "code",
      "execution_count": null,
      "metadata": {
        "colab": {
          "base_uri": "https://localhost:8080/"
        },
        "id": "Z332u9qrvItB",
        "outputId": "a68aac36-31e9-4b0d-fb6a-69cfea4b4a3d"
      },
      "outputs": [
        {
          "name": "stdout",
          "output_type": "stream",
          "text": [
            "Introduce el número de metros consumidos: 19\n",
            "Valor a pagar: $6.45\n"
          ]
        }
      ],
      "source": [
        "def calcular_pago(metros_consumidos):\n",
        "    # Cuota fija\n",
        "    if metros_consumidos <= 18:\n",
        "        return 6\n",
        "\n",
        "    # Si el consumo es entre 19 y 28 metros\n",
        "    elif metros_consumidos <= 28:\n",
        "        exceso_18 = metros_consumidos - 18\n",
        "        valor_exceso = exceso_18 * 0.45\n",
        "        return 6 + valor_exceso\n",
        "\n",
        "    # Si el consumo es de 29 metros en adelante\n",
        "    else:\n",
        "        exceso_28 = metros_consumidos - 28\n",
        "        valor_exceso_28 = exceso_28 * 0.65\n",
        "\n",
        "        exceso_18 = 28 - 18\n",
        "        valor_exceso_18 = exceso_18 * 0.45\n",
        "\n",
        "        return 6 + valor_exceso_18 + valor_exceso_28\n",
        "\n",
        "# Solicitar el número de metros consumidos\n",
        "metros = int(input(\"Introduce el número de metros consumidos: \"))\n",
        "\n",
        "# Calcular el valor a pagar\n",
        "valor_a_pagar = calcular_pago(metros)\n",
        "\n",
        "# Mostrar el resultado\n",
        "print(f\"Valor a pagar: ${valor_a_pagar:.2f}\")"
      ]
    },
    {
      "cell_type": "markdown",
      "metadata": {
        "id": "MvOzgAYNuFab"
      },
      "source": [
        "## **Desarrolle la tabla de meses acumulados a n meses. Si puede encontrar la formula matemática para evitar ciclos.**"
      ]
    },
    {
      "cell_type": "code",
      "execution_count": null,
      "metadata": {
        "colab": {
          "base_uri": "https://localhost:8080/"
        },
        "id": "A2Sbtv5TyG52",
        "outputId": "bb8d2724-7ffa-40b9-f3db-d3c2acbdf87d"
      },
      "outputs": [
        {
          "name": "stdout",
          "output_type": "stream",
          "text": [
            "Introduce el número de meses para calcular la acumulación: 9\n",
            "La acumulación de meses hasta el mes 9 es 45.\n"
          ]
        }
      ],
      "source": [
        "def suma_hasta_n(n):\n",
        "    return n * (n + 1) // 2\n",
        "\n",
        "try:\n",
        "    n = int(input(\"Introduce el número de meses para calcular la acumulación: \"))\n",
        "\n",
        "    if n <= 0:\n",
        "        print(\"El número de meses debe ser mayor que cero.\")\n",
        "    else:\n",
        "        acumulacion = suma_hasta_n(n)\n",
        "        print(f\"La acumulación de meses hasta el mes {n} es {acumulacion}.\")\n",
        "\n",
        "except ValueError:\n",
        "    print(\"Por favor, introduce un número válido.\")"
      ]
    },
    {
      "cell_type": "code",
      "execution_count": null,
      "metadata": {
        "colab": {
          "base_uri": "https://localhost:8080/"
        },
        "id": "RD1eBjTKWmTV",
        "outputId": "9fe5768e-4c26-4485-ae7c-39f1ca5a0c4d"
      },
      "outputs": [
        {
          "name": "stdout",
          "output_type": "stream",
          "text": [
            "Introduce el número de meses para calcular la acumulación: 15\n",
            "MESES ------- ACUMULACION\n",
            "1 ------- 1 + 0 = 1\n",
            "2 ------- 2 + 1 = 3\n",
            "3 ------- 3 + 3 = 6\n",
            "4 ------- 4 + 6 = 10\n",
            "5 ------- 5 + 10 = 15\n",
            "6 ------- 6 + 15 = 21\n",
            "7 ------- 7 + 21 = 28\n",
            "8 ------- 8 + 28 = 36\n",
            "9 ------- 9 + 36 = 45\n",
            "10 ------- 10 + 45 = 55\n",
            "11 ------- 11 + 55 = 66\n",
            "12 ------- 12 + 66 = 78\n",
            "13 ------- 13 + 78 = 91\n",
            "14 ------- 14 + 91 = 105\n",
            "15 ------- 15 + 105 = 120\n"
          ]
        }
      ],
      "source": [
        "def suma_hasta_n(n):\n",
        "    return n * (n + 1) // 2\n",
        "\n",
        "try:\n",
        "    n = int(input(\"Introduce el número de meses para calcular la acumulación: \"))\n",
        "\n",
        "    if n <= 0:\n",
        "        print(\"El número de meses debe ser mayor que cero.\")\n",
        "    else:\n",
        "        print(\"MESES ------- ACUMULACION\")\n",
        "\n",
        "        acumulacion = 0\n",
        "        for i in range(1, n + 1):\n",
        "            acumulacion += i\n",
        "            print(f\"{i} ------- {i} + {acumulacion - i} = {acumulacion}\")\n",
        "\n",
        "except ValueError:\n",
        "    print(\"Por favor, introduce un número válido.\")\n"
      ]
    },
    {
      "cell_type": "markdown",
      "metadata": {
        "id": "rfxZs1sx0ZHm"
      },
      "source": [
        "## **Conversores: (10 ítems como mínimo por cada uno)**\n",
        "* Monedas\n",
        "* Longitud\n",
        "* Masa\n",
        "* Almacenamiento\n",
        "* Tiempo\n",
        "* Volumen\n",
        "* Área"
      ]
    },
    {
      "cell_type": "markdown",
      "metadata": {
        "id": "oCSUpdhblToO"
      },
      "source": [
        "### Monedas"
      ]
    },
    {
      "cell_type": "code",
      "execution_count": null,
      "metadata": {
        "colab": {
          "base_uri": "https://localhost:8080/"
        },
        "id": "pAkJb2Y5zKli",
        "outputId": "2db35320-0568-45fa-cf10-1498695503b1"
      },
      "outputs": [
        {
          "name": "stdout",
          "output_type": "stream",
          "text": [
            "Monedas disponibles:\n",
            "USD\n",
            "MXN\n",
            "Euro\n",
            "Quetzal\n",
            "Colon CR\n",
            "Yen\n",
            "ARG\n",
            "Sol\n",
            "Rublo\n",
            "Libra\n",
            "Moneda origen: Sol\n",
            "Moneda destino: Quetzal\n",
            "Ingresa la cantidad de Sol: 6000\n",
            "6000.00 Sol equivale a 12764.23 Quetzal.\n"
          ]
        }
      ],
      "source": [
        "monedas_con_equivalencias = {\n",
        "    \"USD\": 1,\n",
        "    \"MXN\": 16.79,\n",
        "    \"Euro\": 0.93,\n",
        "    \"Quetzal\": 7.85,\n",
        "    \"Colon CR\": 538.75,\n",
        "    \"Yen\": 146.29,\n",
        "    \"ARG\": 349.98,\n",
        "    \"Sol\": 3.69,\n",
        "    \"Rublo\": 95.00,\n",
        "    \"Libra\": 0.80\n",
        "}\n",
        "print(\"Monedas disponibles:\")\n",
        "for moneda in monedas_con_equivalencias:\n",
        "    print(moneda)\n",
        "\n",
        "nombre_moneda_origen = \"\"\n",
        "nombre_moneda_destino = \"\"\n",
        "while nombre_moneda_origen not in monedas_con_equivalencias:\n",
        "    nombre_moneda_origen = input(\"Moneda origen: \")\n",
        "\n",
        "while nombre_moneda_destino not in monedas_con_equivalencias:\n",
        "    nombre_moneda_destino = input(\"Moneda destino: \")\n",
        "\n",
        "\n",
        "cantidad = float(input(f\"Ingresa la cantidad de {nombre_moneda_origen}: \"))\n",
        "equivalencia_origen = monedas_con_equivalencias[nombre_moneda_origen]\n",
        "equivalencia_destino = monedas_con_equivalencias[nombre_moneda_destino]\n",
        "equivalencia = (equivalencia_destino/equivalencia_origen)*cantidad\n",
        "print(f\"{cantidad:.2f} {nombre_moneda_origen} equivale a {equivalencia:.2f} {nombre_moneda_destino}.\")"
      ]
    },
    {
      "cell_type": "markdown",
      "metadata": {
        "id": "HXjkjrqwlyxO"
      },
      "source": [
        "### Longitudes"
      ]
    },
    {
      "cell_type": "code",
      "execution_count": null,
      "metadata": {
        "colab": {
          "base_uri": "https://localhost:8080/"
        },
        "id": "Q3zOF0sJzjAR",
        "outputId": "fe03c6fb-e6c6-4013-e9ab-04ad16ad5429"
      },
      "outputs": [
        {
          "name": "stdout",
          "output_type": "stream",
          "text": [
            "Longitudes disponibles:\n",
            "cm\n",
            "m\n",
            "pulg\n",
            "yardas\n",
            "pies\n",
            "mm\n",
            "km\n",
            "dm\n",
            "Longitud 1: km\n",
            "Longitud 2: m\n",
            "Ingresa la cantidad de km: 2\n",
            "2.00 km equivale a 2000.00 m.\n"
          ]
        }
      ],
      "source": [
        "Longitudes = {\n",
        "    \"cm\": 1,\n",
        "    \"m\": 0.01,\n",
        "    \"pulg\": 0.393701,\n",
        "    \"yardas\": 0.0109361,\n",
        "    \"pies\": 0.0328084,\n",
        "    \"mm\": 10,\n",
        "    \"km\": 1e-5,\n",
        "    \"dm\": 0.1\n",
        "}\n",
        "\n",
        "print(\"Longitudes disponibles:\")\n",
        "for longitudes in Longitudes:\n",
        "    print(longitudes)\n",
        "\n",
        "nombre_de_longitud = \"\"\n",
        "nombre_longitud_a_convertir = \"\"\n",
        "while nombre_de_longitud not in Longitudes:\n",
        "    nombre_de_longitud = input(\"Longitud 1: \")\n",
        "\n",
        "while nombre_longitud_a_convertir not in Longitudes:\n",
        "    nombre_longitud_a_convertir = input(\"Longitud 2: \")\n",
        "\n",
        "\n",
        "cantidad = float(input(f\"Ingresa la cantidad de {nombre_de_longitud}: \"))\n",
        "equivalencia_origen = Longitudes[nombre_de_longitud]\n",
        "equivalencia_destino = Longitudes[nombre_longitud_a_convertir]\n",
        "equivalencia = (equivalencia_destino/equivalencia_origen)*cantidad\n",
        "print(f\"{cantidad:.2f} {nombre_de_longitud} equivale a {equivalencia:.2f} {nombre_longitud_a_convertir}.\")"
      ]
    },
    {
      "cell_type": "markdown",
      "metadata": {
        "id": "KFxH8cYVl2tz"
      },
      "source": [
        "### Masa"
      ]
    },
    {
      "cell_type": "code",
      "execution_count": null,
      "metadata": {
        "colab": {
          "base_uri": "https://localhost:8080/"
        },
        "id": "ooleiN5VzqKh",
        "outputId": "b025ebe5-128b-4040-9117-5bca69de6999"
      },
      "outputs": [
        {
          "name": "stdout",
          "output_type": "stream",
          "text": [
            "Masas Disponibles:\n",
            "Gramo\n",
            "Libra\n",
            "Centigramo\n",
            "Miligramo\n",
            "Decagramo\n",
            "Hectogramo\n",
            "Kilogramo\n",
            "Tonelada\n",
            "Onza\n",
            "Masa 1: Libra\n",
            "Masa 2: Onza\n",
            "Ingresa la cantidad de Libra: 1\n",
            "1.00 Libra equivale a 16.00 Onza.\n"
          ]
        }
      ],
      "source": [
        "Masas = {\n",
        "    \"Gramo\": 1,\n",
        "    \"Libra\": 0.00220462,\n",
        "    \"Centigramo\": 100,\n",
        "    \"Miligramo\": 1000,\n",
        "    \"Decagramo\": 0.1,\n",
        "    \"Hectogramo\": 0.01,\n",
        "    \"Kilogramo\": 0.001,\n",
        "    \"Tonelada\": 1e-6,\n",
        "    \"Onza\":0.035274\n",
        "}\n",
        "\n",
        "print(\"Masas Disponibles:\")\n",
        "for masas in Masas:\n",
        "    print(masas)\n",
        "\n",
        "nombre_de_masa = \"\"\n",
        "nombre_masa_a_convertir = \"\"\n",
        "while nombre_de_masa not in Masas:\n",
        "    nombre_de_masa = input(\"Masa 1: \")\n",
        "\n",
        "while nombre_masa_a_convertir not in Masas:\n",
        "    nombre_masa_a_convertir = input(\"Masa 2: \")\n",
        "\n",
        "\n",
        "cantidad = float(input(f\"Ingresa la cantidad de {nombre_de_masa}: \"))\n",
        "equivalencia_origen = Masas[nombre_de_masa]\n",
        "equivalencia_destino = Masas[nombre_masa_a_convertir]\n",
        "equivalencia = (equivalencia_destino/equivalencia_origen)*cantidad\n",
        "print(f\"{cantidad:.2f} {nombre_de_masa} equivale a {equivalencia:.2f} {nombre_masa_a_convertir}.\")"
      ]
    },
    {
      "cell_type": "markdown",
      "metadata": {
        "id": "ceSoMSLFl7hD"
      },
      "source": [
        "### Almacenamiento"
      ]
    },
    {
      "cell_type": "code",
      "execution_count": null,
      "metadata": {
        "colab": {
          "base_uri": "https://localhost:8080/"
        },
        "id": "PmgMEWGVzyTC",
        "outputId": "504f1467-7039-42fa-aba5-becedad3f451"
      },
      "outputs": [
        {
          "name": "stdout",
          "output_type": "stream",
          "text": [
            "Almacenamiento Disponibles:\n",
            "Byte\n",
            "Bit\n",
            "Kb\n",
            "Mb\n",
            "Gb\n",
            "Tb\n",
            "Pb\n",
            "Eb\n",
            "almacenamiento 1: Mb\n",
            "almacenamiento 2: Gb\n",
            "Ingresa la cantidad de Mb: 7000\n",
            "7000.00 Mb equivale a 7.00 Gb.\n"
          ]
        }
      ],
      "source": [
        "Almacenamiento = {\n",
        "    \"Byte\": 1,\n",
        "    \"Bit\": 8,\n",
        "    \"Kb\": 0.001,\n",
        "    \"Mb\": 1e-6,\n",
        "    \"Gb\": 1e-9,\n",
        "    \"Tb\": 1e-12,\n",
        "    \"Pb\": 1e-15,\n",
        "    \"Eb\": 1e+18,\n",
        "}\n",
        "\n",
        "print(\"Almacenamiento Disponibles:\")\n",
        "for almacenamiento in Almacenamiento:\n",
        "    print(almacenamiento)\n",
        "\n",
        "nombre_de_alma = \"\"\n",
        "nombre_alma_a_convertir = \"\"\n",
        "while nombre_de_alma not in Almacenamiento:\n",
        "    nombre_de_alma = input(\"almacenamiento 1: \")\n",
        "\n",
        "while nombre_alma_a_convertir not in Almacenamiento:\n",
        "    nombre_alma_a_convertir = input(\"almacenamiento 2: \")\n",
        "\n",
        "\n",
        "cantidad = float(input(f\"Ingresa la cantidad de {nombre_de_alma}: \"))\n",
        "equivalencia_origen = Almacenamiento[nombre_de_alma]\n",
        "equivalencia_destino = Almacenamiento[nombre_alma_a_convertir]\n",
        "equivalencia = (equivalencia_destino/equivalencia_origen)*cantidad\n",
        "print(f\"{cantidad:.2f} {nombre_de_alma} equivale a {equivalencia:.2f} {nombre_alma_a_convertir}.\")"
      ]
    },
    {
      "cell_type": "markdown",
      "metadata": {
        "id": "cc8s1no5mArm"
      },
      "source": [
        "### Tiempo"
      ]
    },
    {
      "cell_type": "code",
      "execution_count": null,
      "metadata": {
        "colab": {
          "base_uri": "https://localhost:8080/"
        },
        "id": "6SOBdOBiz40B",
        "outputId": "3f63d435-0b20-4d85-f307-3fb3a2b883cc"
      },
      "outputs": [
        {
          "name": "stdout",
          "output_type": "stream",
          "text": [
            "Tiempo Disponible:\n",
            "Segundos\n",
            "Milisegundo\n",
            "Minuto\n",
            "Hora\n",
            "Dia\n",
            "Semana\n",
            "Mes\n",
            "Año\n",
            "Decada\n",
            "tiempo 1: Año\n",
            "tiempo 2: Semana\n",
            "Ingresa la cantidad de Año: 1\n",
            "1.00 Año equivale a 52.14 Semana.\n"
          ]
        }
      ],
      "source": [
        "Tiempo = {\n",
        "    \"Segundos\": 1,\n",
        "    \"Milisegundo\": 1000,\n",
        "    \"Minuto\": 0.0166667,\n",
        "    \"Hora\": 0.000277778,\n",
        "    \"Dia\": 1.1574e-5,\n",
        "    \"Semana\": 1.6534e-6,\n",
        "    \"Mes\": 3.8052e-7,\n",
        "    \"Año\": 3.171e-8,\n",
        "    \"Decada\": 3.171e-9\n",
        "}\n",
        "\n",
        "print(\"Tiempo Disponible:\")\n",
        "for tiempo in Tiempo:\n",
        "    print(tiempo)\n",
        "\n",
        "nombre_de_tiempo = \"\"\n",
        "nombre_tiempo_a_convertir = \"\"\n",
        "while nombre_de_tiempo not in Tiempo:\n",
        "    nombre_de_tiempo = input(\"tiempo 1: \")\n",
        "\n",
        "while nombre_tiempo_a_convertir not in Tiempo:\n",
        "    nombre_tiempo_a_convertir = input(\"tiempo 2: \")\n",
        "\n",
        "\n",
        "cantidad = float(input(f\"Ingresa la cantidad de {nombre_de_tiempo}: \"))\n",
        "equivalencia_origen = Tiempo[nombre_de_tiempo]\n",
        "equivalencia_destino = Tiempo[nombre_tiempo_a_convertir]\n",
        "equivalencia = (equivalencia_destino/equivalencia_origen)*cantidad\n",
        "print(f\"{cantidad:.2f} {nombre_de_tiempo} equivale a {equivalencia:.2f} {nombre_tiempo_a_convertir}.\")"
      ]
    },
    {
      "cell_type": "markdown",
      "metadata": {
        "id": "j6iBor0kmDGX"
      },
      "source": [
        "### Volumen"
      ]
    },
    {
      "cell_type": "code",
      "execution_count": null,
      "metadata": {
        "colab": {
          "base_uri": "https://localhost:8080/"
        },
        "id": "9MyK2zOD0eg3",
        "outputId": "990ff2df-2220-4c84-eae6-ec355f1617f9"
      },
      "outputs": [
        {
          "name": "stdout",
          "output_type": "stream",
          "text": [
            "Volumenes Disponible:\n",
            "Litro\n",
            "Centilitros\n",
            "Decilitros\n",
            "Mililitro\n",
            "Galones\n",
            "Metro cubico\n",
            "Taza\n",
            "Pinta\n",
            "Onza\n",
            "cucharada\n",
            "volumen 1: Onza\n",
            "volumen 2: Litro\n",
            "Ingresa la cantidad de Onza: 500\n",
            "500.00 Onza equivale a 14.21 Litro.\n"
          ]
        }
      ],
      "source": [
        "Volumen = {\n",
        "    \"Litro\": 1,\n",
        "    \"Centilitros\": 0.001,\n",
        "    \"Decilitros\": 10,\n",
        "    \"Mililitro\": 1000,\n",
        "    \"Galones\": 0.264172,\n",
        "    \"Metro cubico\": 0.001,\n",
        "    \"Taza\": 4.2268,\n",
        "    \"Pinta\": 2.11338,\n",
        "    \"Onza\": 35.1951,\n",
        "    \"cucharada\": 56.3121\n",
        "}\n",
        "\n",
        "print(\"Volumenes Disponible:\")\n",
        "for volumen in Volumen:\n",
        "    print(volumen)\n",
        "\n",
        "nombre_de_volumen = \"\"\n",
        "nombre_volumen_a_convertir = \"\"\n",
        "while nombre_de_volumen not in Volumen:\n",
        "    nombre_de_volumen = input(\"volumen 1: \")\n",
        "\n",
        "while nombre_volumen_a_convertir not in Volumen:\n",
        "    nombre_volumen_a_convertir = input(\"volumen 2: \")\n",
        "\n",
        "\n",
        "cantidad = float(input(f\"Ingresa la cantidad de {nombre_de_volumen}: \"))\n",
        "equivalencia_origen = Volumen[nombre_de_volumen]\n",
        "equivalencia_destino = Volumen[nombre_volumen_a_convertir]\n",
        "equivalencia = (equivalencia_destino/equivalencia_origen)*cantidad\n",
        "print(f\"{cantidad:.2f} {nombre_de_volumen} equivale a {equivalencia:.2f} {nombre_volumen_a_convertir}.\")"
      ]
    },
    {
      "cell_type": "markdown",
      "metadata": {
        "id": "n-9r6YvtmFlX"
      },
      "source": [
        "### Área"
      ]
    },
    {
      "cell_type": "code",
      "execution_count": null,
      "metadata": {
        "colab": {
          "base_uri": "https://localhost:8080/"
        },
        "id": "O8ms3ibk0odW",
        "outputId": "35bf1326-a2f5-4f22-ec12-9a88bb092345"
      },
      "outputs": [
        {
          "name": "stdout",
          "output_type": "stream",
          "text": [
            "Areas Disponible:\n",
            "m2\n",
            "km2\n",
            "milla2\n",
            "yarda2\n",
            "pie2\n",
            "pulg2\n",
            "hec\n",
            "acre\n"
          ]
        }
      ],
      "source": [
        "Area = {\n",
        "    \"m2\": 1,\n",
        "    \"km2\": 1e-6,\n",
        "    \"milla2\": 3.861e-7,\n",
        "    \"yarda2\": 1.19599,\n",
        "    \"pie2\": 10.7639,\n",
        "    \"pulg2\": 1550,\n",
        "    \"hec\": 1e-4,\n",
        "    \"acre\": 0.000247105,\n",
        "}\n",
        "\n",
        "print(\"Areas Disponible:\")\n",
        "for area in Area:\n",
        "    print(area)\n",
        "\n",
        "nombre_de_area = \"\"\n",
        "nombre_area_a_convertir = \"\"\n",
        "while nombre_de_area not in Area:\n",
        "    nombre_de_area = input(\"area 1: \")\n",
        "\n",
        "while nombre_area_a_convertir not in Area:\n",
        "    nombre_area_a_convertir = input(\"area 2: \")\n",
        "\n",
        "\n",
        "cantidad = float(input(f\"Ingresa la cantidad de {nombre_de_area}: \"))\n",
        "equivalencia_origen = Area[nombre_de_area]\n",
        "equivalencia_destino = Area[nombre_area_a_convertir]\n",
        "equivalencia = (equivalencia_destino/equivalencia_origen)*cantidad\n",
        "print(f\"{cantidad:.2f} {nombre_de_area} equivale a {equivalencia:.2f} {nombre_area_a_convertir}.\")"
      ]
    },
    {
      "cell_type": "markdown",
      "metadata": {
        "id": "pePkeUeCzmF1"
      },
      "source": [
        "## **Realizar un conversor propio, donde especifique el valor de conversión:**\n",
        "* 1 caja -> 25 unidad. Viceversa 80 unidades – 3/5 -> cajas/unidades\n",
        "* 1 saco -> 50 libras. Viceversa 130 libras – 2/30 -> sacos/libras\n",
        "* 1 fardo -> 5 unidades. Viceversa 28 unidades – 5/3 -> fardos/unidades"
      ]
    },
    {
      "cell_type": "code",
      "execution_count": null,
      "metadata": {
        "colab": {
          "base_uri": "https://localhost:8080/"
        },
        "id": "YQVFpBx6z0gn",
        "outputId": "9b9b21f3-4cbd-4f4a-c60b-196c775eb031"
      },
      "outputs": [
        {
          "name": "stdout",
          "output_type": "stream",
          "text": [
            "Conversor de Unidades\n",
            "1. Cajas - unidades\n",
            "2. Unidades - cajas\n",
            "3. Sacos - libras\n",
            "4. Libras - sacos\n",
            "5. Fardos - unidades\n",
            "6. Unidades - fardos\n",
            "Seleccione una opción: 1\n",
            "Ingrese la cantidad para convertir: 3\n",
            "3.0 cajas son 75.0 unidades.\n",
            "¿Desea realizar otra conversión? (s/n): s\n",
            "Conversor de Unidades\n",
            "1. Cajas - unidades\n",
            "2. Unidades - cajas\n",
            "3. Sacos - libras\n",
            "4. Libras - sacos\n",
            "5. Fardos - unidades\n",
            "6. Unidades - fardos\n",
            "Seleccione una opción: 2\n",
            "Ingrese la cantidad para convertir: 80\n",
            "80.0 unidades son 3 cajas y 5 unidades.\n"
          ]
        }
      ],
      "source": [
        "def convertir_cajas(unidades, a_cajas=True):\n",
        "    if a_cajas:\n",
        "        return unidades / 25, unidades % 25\n",
        "    else:\n",
        "        return unidades * 25\n",
        "\n",
        "def convertir_sacos(libras, a_sacos=True):\n",
        "    if a_sacos:\n",
        "        return libras / 50, libras % 50\n",
        "    else:\n",
        "        return libras * 50\n",
        "\n",
        "def convertir_fardos(unidades, a_fardos=True):\n",
        "    if a_fardos:\n",
        "        return unidades / 5, unidades % 5\n",
        "    else:\n",
        "        return unidades * 5\n",
        "\n",
        "while True:\n",
        "    print(\"Conversor de Unidades\")\n",
        "    print(\"1. Cajas - unidades\")\n",
        "    print(\"2. Unidades - cajas\")\n",
        "    print(\"3. Sacos - libras\")\n",
        "    print(\"4. Libras - sacos\")\n",
        "    print(\"5. Fardos - unidades\")\n",
        "    print(\"6. Unidades - fardos\")\n",
        "\n",
        "    opcion = input(\"Seleccione una opción: \")\n",
        "\n",
        "    cantidad = float(input(\"Ingrese la cantidad para convertir: \"))\n",
        "\n",
        "    if opcion == '1':\n",
        "        print(f\"{cantidad} cajas son {convertir_cajas(cantidad, False)} unidades.\")\n",
        "    elif opcion == '2':\n",
        "        cajas, unidades = convertir_cajas(cantidad)\n",
        "        print(f\"{cantidad} unidades son {int(cajas)} cajas y {int(unidades)} unidades.\")\n",
        "    elif opcion == '3':\n",
        "        print(f\"{cantidad} sacos son {convertir_sacos(cantidad, False)} libras.\")\n",
        "    elif opcion == '4':\n",
        "        sacos, libras = convertir_sacos(cantidad)\n",
        "        print(f\"{cantidad} libras son {int(sacos)} sacos y {int(libras)} libras.\")\n",
        "    elif opcion == '5':\n",
        "        print(f\"{cantidad} fardos son {convertir_fardos(cantidad, False)} unidades.\")\n",
        "    elif opcion == '6':\n",
        "        fardos, unidades = convertir_fardos(cantidad)\n",
        "        print(f\"{cantidad} unidades son {int(fardos)} fardos y {int(unidades)} unidades.\")\n",
        "    else:\n",
        "        print(\"Opción no válida.\")\n",
        "\n",
        "    continuar = input(\"¿Desea realizar otra conversión? (s/n): \")\n",
        "    if continuar.lower() != 's':\n",
        "        break"
      ]
    },
    {
      "cell_type": "markdown",
      "metadata": {
        "id": "qni8j_Sdtvgc"
      },
      "source": [
        "## **Escriba un programa que encuentre la media aritmetica de una serie de numeros introducidos por el usuario.**"
      ]
    },
    {
      "cell_type": "code",
      "execution_count": null,
      "metadata": {
        "id": "iMHwewVfo5uI"
      },
      "outputs": [],
      "source": [
        "numeros = int(input(\"¿Cuántos números deseas ingresar?: \"))\n",
        "suma = 0\n",
        "\n",
        "for i in range(numeros):\n",
        "  numero = float(input(f\"Ingrese el número {i+1}: \"))\n",
        "  suma += numero\n",
        "\n",
        "media = suma / numeros\n",
        "\n",
        "print(f\"La media aritmética de los {numeros} números es: {media}\")"
      ]
    },
    {
      "cell_type": "markdown",
      "metadata": {
        "id": "R5Ede_GaoyXw"
      },
      "source": [
        "## **Escriba un programa que determine si una palabra introducida por el usuario es palindrome o no, ejm. de palabra palindrome: Ana, Oso, Oro, etc.**"
      ]
    },
    {
      "cell_type": "code",
      "execution_count": null,
      "metadata": {
        "colab": {
          "base_uri": "https://localhost:8080/"
        },
        "id": "hlnNPm_CqaIA",
        "outputId": "c61d3ac1-4a60-4ad6-e771-d4f1e3449ac1"
      },
      "outputs": [
        {
          "name": "stdout",
          "output_type": "stream",
          "text": [
            "Introduce una palabra: Ana\n",
            "'ana' es un palíndromo.\n"
          ]
        }
      ],
      "source": [
        "palabra = input(\"Introduce una palabra: \")\n",
        "palabra = palabra.lower()\n",
        "\n",
        "palabra_reversa = palabra[::-1]\n",
        "\n",
        "if palabra == palabra_reversa:\n",
        "    print(f\"'{palabra}' es un palíndromo.\")\n",
        "else:\n",
        "    print(f\"'{palabra}' no es un palíndromo.\")"
      ]
    },
    {
      "cell_type": "markdown",
      "metadata": {
        "id": "JircVXMVo0vL"
      },
      "source": [
        "## **Escriba un programa que convierta un numero por el usuario a su equivalente en numeros rumanos: Ejm: 5 -> V.**"
      ]
    },
    {
      "cell_type": "code",
      "execution_count": null,
      "metadata": {
        "colab": {
          "base_uri": "https://localhost:8080/"
        },
        "id": "NGijJUwtraGm",
        "outputId": "e4b74694-f6a7-4304-b5bf-d7c725f2c4ef"
      },
      "outputs": [
        {
          "name": "stdout",
          "output_type": "stream",
          "text": [
            "Introduce un número para convertirlo a números romanos: 4999\n",
            "El número 4999 en números romanos es MMMMCMXCIX\n"
          ]
        }
      ],
      "source": [
        "def romano(n):\n",
        "    mapa = {\n",
        "        1: \"I\",\n",
        "        4: \"IV\",\n",
        "        5: \"V\",\n",
        "        9: \"IX\",\n",
        "        10: \"X\",\n",
        "        40: \"XL\",\n",
        "        50: \"L\",\n",
        "        90: \"XC\",\n",
        "        100: \"C\",\n",
        "        400: \"CD\",\n",
        "        500: \"D\",\n",
        "        900: \"CM\",\n",
        "        1000: \"M\"\n",
        "    }\n",
        "\n",
        "    resultado = []\n",
        "\n",
        "    claves = sorted(mapa.keys(), reverse=True)\n",
        "\n",
        "    for clave in claves:\n",
        "        while n >= clave:\n",
        "            resultado.append(mapa[clave])\n",
        "            n -= clave\n",
        "\n",
        "    return \"\".join(resultado)\n",
        "\n",
        "try:\n",
        "    numero = int(input(\"Introduce un número para convertirlo a números romanos: \"))\n",
        "    if numero <= 0 or numero > 5000:\n",
        "        print(\"El número debe estar en el rango de 1 a 5000.\")\n",
        "    else:\n",
        "        romano = romano(numero)\n",
        "        print(f\"El número {numero} en números romanos es {romano}\")\n",
        "except ValueError:\n",
        "    print(\"Por favor, introduce un número válido.\")"
      ]
    },
    {
      "cell_type": "markdown",
      "metadata": {
        "id": "QepQtY2gPGnE"
      },
      "source": [
        "# Parcial"
      ]
    },
    {
      "cell_type": "markdown",
      "metadata": {
        "id": "bRiPeIdWTVm-"
      },
      "source": [
        "## Desarrolle el conversor de Área (Superficie) haciendo uso de los diccionarios y las funciones de usuario en Python que contenga las siguientes opciones:\n",
        "* Pie Cuadrado\n",
        "* Vara Cuadrada\n",
        "* Yarda Cuadrada\n",
        "* Metro Cuadrado\n",
        "* Tareas\n",
        "* Manzana\n",
        "* Hectárea\n"
      ]
    },
    {
      "cell_type": "code",
      "execution_count": null,
      "metadata": {
        "id": "0gel6zcPT-v1",
        "colab": {
          "base_uri": "https://localhost:8080/"
        },
        "outputId": "d5d1cdff-abb9-4622-d290-e92dab74d440"
      },
      "outputs": [
        {
          "output_type": "stream",
          "name": "stdout",
          "text": [
            "Conversor de Áreas\n",
            "Unidades disponibles: Pie Cuadrado, Vara Cuadrada, Yarda Cuadrada, Metro Cuadrado, Tareas, Manzana, Hectárea\n",
            "Ingrese la unidad de área de origen: Metro Cuadrado\n",
            "Ingrese la unidad de área de destino: Vara Cuadrada\n",
            "Ingrese el valor en Metro Cuadrado: 1\n",
            "1.0 Metro Cuadrado equivale a 1.205236351301009 Vara Cuadrada\n"
          ]
        }
      ],
      "source": [
        "areas = {\n",
        "    'Pie Cuadrado': 75820.9849753,\n",
        "    'Vara Cuadrada': 8424.55388614,\n",
        "    'Yarda Cuadrada': 1.19599,\n",
        "    'Metro Cuadrado': 6989.96,\n",
        "    'Tareas': 16,\n",
        "    'Manzana': 1,\n",
        "    'Hectárea': 0.698896\n",
        "}\n",
        "\n",
        "def convert_area(valor, from_unit, to_unit):\n",
        "    if from_unit in areas and to_unit in areas:\n",
        "        valor_convertir = (areas[to_unit] / areas[from_unit]) * valor\n",
        "        return valor_convertir\n",
        "    else:\n",
        "        return None\n",
        "\n",
        "def main():\n",
        "    print(\"Conversor de Áreas\")\n",
        "    print(\"Unidades disponibles:\", \", \".join(areas.keys()))\n",
        "\n",
        "    from_unit = input(\"Ingrese la unidad de área de origen: \")\n",
        "    to_unit = input(\"Ingrese la unidad de área de destino: \")\n",
        "\n",
        "    if from_unit in areas and to_unit in areas:\n",
        "        valor = float(input(f\"Ingrese el valor en {from_unit}: \"))\n",
        "        valor_convertir = convert_area(valor, from_unit, to_unit)\n",
        "        if valor_convertir is not None:\n",
        "            print(f\"{valor} {from_unit} equivale a {valor_convertir} {to_unit}\")\n",
        "        else:\n",
        "            print(\"Las unidades ingresadas no son válidas.\")\n",
        "    else:\n",
        "        print(\"Las unidades ingresadas no son válidas.\")\n",
        "\n",
        "if __name__ == \"__main__\":\n",
        "    main()\n"
      ]
    },
    {
      "cell_type": "markdown",
      "source": [
        "**El siguiente código lo hice día después del parcial, el código realizado en el parcial es el de arriba (Para evitar confusión para calificar)**"
      ],
      "metadata": {
        "id": "9jGpnUCukvRe"
      }
    },
    {
      "cell_type": "code",
      "source": [],
      "metadata": {
        "id": "5UgaEb9vlBGb"
      },
      "execution_count": null,
      "outputs": []
    }
  ],
  "metadata": {
    "colab": {
      "collapsed_sections": [
        "JgTeA_LZJRym",
        "ocMEabFdMkLe",
        "dIc9kkSRKkjb",
        "8ZMYhHibMMbh",
        "fX7ie3ctNVnu",
        "z4BgfcAiNbNn",
        "eqE9OoyuNeBY",
        "7lncvyQkNiQe",
        "EYhXliQcFj5k",
        "AeUQMZtXI4i-",
        "wPtwdwbQJDJV",
        "47Ny8uCrJTom",
        "S18KM5vlsn7B",
        "ZDnU1zgruBn9",
        "MvOzgAYNuFab",
        "rfxZs1sx0ZHm",
        "oCSUpdhblToO",
        "HXjkjrqwlyxO",
        "KFxH8cYVl2tz",
        "ceSoMSLFl7hD",
        "cc8s1no5mArm",
        "j6iBor0kmDGX",
        "n-9r6YvtmFlX",
        "qni8j_Sdtvgc",
        "R5Ede_GaoyXw",
        "JircVXMVo0vL"
      ],
      "provenance": [],
      "authorship_tag": "ABX9TyOWpXA95/zEugkiwKdRHnlc",
      "include_colab_link": true
    },
    "kernelspec": {
      "display_name": "Python 3",
      "name": "python3"
    },
    "language_info": {
      "name": "python"
    }
  },
  "nbformat": 4,
  "nbformat_minor": 0
}